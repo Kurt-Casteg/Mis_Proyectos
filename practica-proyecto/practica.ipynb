{
 "cells": [
  {
   "cell_type": "code",
   "execution_count": 1,
   "metadata": {},
   "outputs": [],
   "source": [
    "# Carga de librerías\n",
    "import pandas as pd\n",
    "import numpy as np\n",
    "import matplotlib.pyplot as plt\n",
    "import seaborn as sns\n",
    "from scipy.stats import norm\n",
    "from sklearn.preprocessing import StandardScaler\n",
    "from scipy import stats\n",
    "\n",
    "%matplotlib inline"
   ]
  },
  {
   "cell_type": "code",
   "execution_count": 2,
   "metadata": {},
   "outputs": [],
   "source": [
    "# Ahora cargaremos la base a analizar\n",
    "df_rank = pd.read_csv('Anime_rank.csv')"
   ]
  },
  {
   "cell_type": "code",
   "execution_count": 3,
   "metadata": {},
   "outputs": [
    {
     "data": {
      "text/plain": [
       "(8650, 9)"
      ]
     },
     "execution_count": 3,
     "metadata": {},
     "output_type": "execute_result"
    }
   ],
   "source": [
    "df_rank.shape"
   ]
  },
  {
   "cell_type": "code",
   "execution_count": 4,
   "metadata": {},
   "outputs": [
    {
     "data": {
      "text/html": [
       "<div>\n",
       "<style scoped>\n",
       "    .dataframe tbody tr th:only-of-type {\n",
       "        vertical-align: middle;\n",
       "    }\n",
       "\n",
       "    .dataframe tbody tr th {\n",
       "        vertical-align: top;\n",
       "    }\n",
       "\n",
       "    .dataframe thead th {\n",
       "        text-align: right;\n",
       "    }\n",
       "</style>\n",
       "<table border=\"1\" class=\"dataframe\">\n",
       "  <thead>\n",
       "    <tr style=\"text-align: right;\">\n",
       "      <th></th>\n",
       "      <th>UID</th>\n",
       "      <th>Rank</th>\n",
       "      <th>Episodes</th>\n",
       "      <th>Score</th>\n",
       "    </tr>\n",
       "  </thead>\n",
       "  <tbody>\n",
       "    <tr>\n",
       "      <th>count</th>\n",
       "      <td>8650.000000</td>\n",
       "      <td>8650.000000</td>\n",
       "      <td>8608.000000</td>\n",
       "      <td>8650.000000</td>\n",
       "    </tr>\n",
       "    <tr>\n",
       "      <th>mean</th>\n",
       "      <td>4325.500000</td>\n",
       "      <td>4325.500000</td>\n",
       "      <td>15.245818</td>\n",
       "      <td>7.039057</td>\n",
       "    </tr>\n",
       "    <tr>\n",
       "      <th>std</th>\n",
       "      <td>2497.184248</td>\n",
       "      <td>2497.184248</td>\n",
       "      <td>34.188955</td>\n",
       "      <td>0.593492</td>\n",
       "    </tr>\n",
       "    <tr>\n",
       "      <th>min</th>\n",
       "      <td>1.000000</td>\n",
       "      <td>1.000000</td>\n",
       "      <td>1.000000</td>\n",
       "      <td>6.150000</td>\n",
       "    </tr>\n",
       "    <tr>\n",
       "      <th>25%</th>\n",
       "      <td>2163.250000</td>\n",
       "      <td>2163.250000</td>\n",
       "      <td>1.000000</td>\n",
       "      <td>6.550000</td>\n",
       "    </tr>\n",
       "    <tr>\n",
       "      <th>50%</th>\n",
       "      <td>4325.500000</td>\n",
       "      <td>4325.500000</td>\n",
       "      <td>11.000000</td>\n",
       "      <td>6.970000</td>\n",
       "    </tr>\n",
       "    <tr>\n",
       "      <th>75%</th>\n",
       "      <td>6487.750000</td>\n",
       "      <td>6487.750000</td>\n",
       "      <td>13.000000</td>\n",
       "      <td>7.420000</td>\n",
       "    </tr>\n",
       "    <tr>\n",
       "      <th>max</th>\n",
       "      <td>8650.000000</td>\n",
       "      <td>8650.000000</td>\n",
       "      <td>1787.000000</td>\n",
       "      <td>9.350000</td>\n",
       "    </tr>\n",
       "  </tbody>\n",
       "</table>\n",
       "</div>"
      ],
      "text/plain": [
       "               UID         Rank     Episodes        Score\n",
       "count  8650.000000  8650.000000  8608.000000  8650.000000\n",
       "mean   4325.500000  4325.500000    15.245818     7.039057\n",
       "std    2497.184248  2497.184248    34.188955     0.593492\n",
       "min       1.000000     1.000000     1.000000     6.150000\n",
       "25%    2163.250000  2163.250000     1.000000     6.550000\n",
       "50%    4325.500000  4325.500000    11.000000     6.970000\n",
       "75%    6487.750000  6487.750000    13.000000     7.420000\n",
       "max    8650.000000  8650.000000  1787.000000     9.350000"
      ]
     },
     "execution_count": 4,
     "metadata": {},
     "output_type": "execute_result"
    }
   ],
   "source": [
    "df_rank.describe()"
   ]
  },
  {
   "cell_type": "code",
   "execution_count": 6,
   "metadata": {},
   "outputs": [
    {
     "name": "stdout",
     "output_type": "stream",
     "text": [
      "               UID      Rank  Episodes     Score\n",
      "UID       1.000000  1.000000 -0.036278 -0.975218\n",
      "Rank      1.000000  1.000000 -0.036278 -0.975218\n",
      "Episodes -0.036278 -0.036278  1.000000  0.040270\n",
      "Score    -0.975218 -0.975218  0.040270  1.000000\n"
     ]
    }
   ],
   "source": [
    "df_numeric = df_rank.select_dtypes(include=[np.number])\n",
    "correlation_matrix = df_numeric.corr()\n",
    "print(correlation_matrix)"
   ]
  }
 ],
 "metadata": {
  "kernelspec": {
   "display_name": "Mis_Proyectos",
   "language": "python",
   "name": "python3"
  },
  "language_info": {
   "codemirror_mode": {
    "name": "ipython",
    "version": 3
   },
   "file_extension": ".py",
   "mimetype": "text/x-python",
   "name": "python",
   "nbconvert_exporter": "python",
   "pygments_lexer": "ipython3",
   "version": "3.12.4"
  }
 },
 "nbformat": 4,
 "nbformat_minor": 2
}
